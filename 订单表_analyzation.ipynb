{
 "cells": [
  {
   "cell_type": "code",
   "execution_count": null,
   "id": "initial_id",
   "metadata": {
    "collapsed": true
   },
   "outputs": [],
   "source": [
    "\n",
    "'''\n",
    "解决汉字乱码问题\n",
    "'''\n",
    "import matplotlib.pyplot as plt\n",
    "\n",
    "plt.rcParams['font.sans-serif'] = ['SimHei']  # 设置字体\n",
    "plt.rcParams['axes.unicode_minus'] = False\n",
    "import os\n",
    "import pandas as pd\n",
    "import seaborn as sns\n",
    "\n",
    "import matplotlib.pyplot as plt\n",
    "\n",
    "plt.rcParams['font.sans-serif'] = ['SimHei']  # 设置字体\n",
    "plt.rcParams['axes.unicode_minus'] = False\n",
    "\n",
    "\n",
    "# 1. 加载数据\n",
    "def load_data(file_path):\n",
    "    try:\n",
    "        data = pd.read_csv(file_path)\n",
    "        print(f\"{os.path.basename(file_path)} 加载成功\")\n",
    "        return data\n",
    "    except Exception as e:\n",
    "        print(f\"{os.path.basename(file_path)} 加载失败:\", e)\n",
    "        return None\n",
    "\n",
    "\n",
    "# 2. 数据清理\n",
    "def clean_data(data):\n",
    "    # 检查缺失值\n",
    "    missing_data = data.isnull().sum()\n",
    "    print(\"缺失值统计:\\n\", missing_data[missing_data > 0])\n",
    "\n",
    "    # 检查重复值\n",
    "    duplicates = data.duplicated().sum()\n",
    "    print(\"重复值数量:\", duplicates)\n",
    "\n",
    "    return data\n",
    "\n",
    "\n",
    "file_paths = {\n",
    "    \"用户行为表\": \"电商平台行为数据表/用户行为表.csv\",\n",
    "    \"用户表\": \"电商平台行为数据表/用户表.csv\",\n",
    "    \"用户评论表\": \"电商平台行为数据表/用户评论表.csv\",\n",
    "    \"用户购买信息表\": \"电商平台行为数据表/用户购买信息表.csv\",\n",
    "    \"订单表\": \"电商平台行为数据表/订单表.csv\"\n",
    "}\n",
    "# 加载各个CSV文件\n",
    "user_behavior = load_data(file_paths[\"用户行为表\"])\n",
    "user_info = load_data(file_paths[\"用户表\"])\n",
    "user_comments = load_data(file_paths[\"用户评论表\"])\n",
    "purchase_info = load_data(file_paths[\"用户购买信息表\"])\n",
    "orders = load_data(file_paths[\"订单表\"])"
   ]
  },
  {
   "cell_type": "code",
   "outputs": [],
   "source": [
    "orders.info()\n",
    "orders.head()"
   ],
   "metadata": {
    "collapsed": false
   },
   "id": "ccaeb105121b9b5e",
   "execution_count": null
  },
  {
   "cell_type": "code",
   "outputs": [],
   "source": [
    "orders_with_comments = orders[orders['备注'].notna() & (orders['备注'] != '')]\n",
    "\n",
    "# 输出结果\n",
    "'''\n",
    "打印出有备注的订单\n",
    "'''\n",
    "orders_with_comments"
   ],
   "metadata": {
    "collapsed": false
   },
   "id": "899501669ace471d",
   "execution_count": null
  },
  {
   "cell_type": "code",
   "outputs": [],
   "source": [
    "total_orders = orders['订单编号'].nunique()\n",
    "orders_with_comments_count = orders_with_comments['订单编号'].nunique()\n",
    "\n",
    "# 绘制饼图\n",
    "labels = ['有备注的订单', '无备注的订单']\n",
    "sizes = [orders_with_comments_count, total_orders - orders_with_comments_count]\n",
    "colors = ['#ff9999','#66b3ff']\n",
    "explode = (0.1, 0)  # 仅“有备注的订单”突出\n",
    "\n",
    "plt.figure(figsize=(8, 6))\n",
    "plt.pie(sizes, explode=explode, labels=labels, colors=colors, autopct='%1.1f%%',\n",
    "        shadow=True, startangle=140)\n",
    "plt.title('订单备注情况')\n",
    "plt.axis('equal')  \n",
    "plt.show()\n",
    "\n",
    "# 输出统计信息\n",
    "print(f'总订单数: {total_orders}')\n",
    "print(f'有备注的订单数: {orders_with_comments_count}')"
   ],
   "metadata": {
    "collapsed": false
   },
   "id": "33de75d3d0bc214",
   "execution_count": null
  },
  {
   "cell_type": "code",
   "outputs": [],
   "source": [
    "#总销售额和订单数\n",
    "total_orders = orders['订单编号'].nunique()\n",
    "total_sales = (orders['价格'] * orders['购买数量']).sum()\n",
    "\n",
    "print(f'总订单数: {total_orders}')\n",
    "print(f'总销售额: {total_sales}')"
   ],
   "metadata": {
    "collapsed": false
   },
   "id": "726b6bd570ae8eae",
   "execution_count": null
  },
  {
   "cell_type": "code",
   "outputs": [],
   "source": [
    "# 订单状态分布\n",
    "order_status_counts = orders['订单状态'].value_counts()\n",
    "\n",
    "plt.figure(figsize=(10, 6))\n",
    "sns.barplot(x=order_status_counts.index, y=order_status_counts.values, palette='viridis')\n",
    "plt.title('订单状态分布')\n",
    "plt.xlabel('订单状态')\n",
    "plt.ylabel('数量')\n",
    "plt.xticks(rotation=45)\n",
    "plt.show()\n",
    "successful_orders_count = orders[orders['订单状态'] == '交易成功']['订单编号'].nunique()\n",
    "closed_orders_count = orders[orders['订单状态'] == '交易关闭']['订单编号'].nunique()\n",
    "\n",
    "# 输出结果\n",
    "print(f'交易成功的订单数: {successful_orders_count}')\n",
    "print(f'已关闭的订单数: {closed_orders_count}')\n",
    "print(f'交易失败率为：{closed_orders_count/total_orders*100}%')\n",
    "print(f'转化率为：{100-closed_orders_count/total_orders*100}%')"
   ],
   "metadata": {
    "collapsed": false
   },
   "id": "194b06e84c746973",
   "execution_count": null
  }
 ],
 "metadata": {
  "kernelspec": {
   "display_name": "Python 3",
   "language": "python",
   "name": "python3"
  },
  "language_info": {
   "codemirror_mode": {
    "name": "ipython",
    "version": 2
   },
   "file_extension": ".py",
   "mimetype": "text/x-python",
   "name": "python",
   "nbconvert_exporter": "python",
   "pygments_lexer": "ipython2",
   "version": "2.7.6"
  }
 },
 "nbformat": 4,
 "nbformat_minor": 5
}
